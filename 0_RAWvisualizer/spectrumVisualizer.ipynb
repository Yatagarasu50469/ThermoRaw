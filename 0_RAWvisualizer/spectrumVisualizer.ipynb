{
 "cells": [
  {
   "cell_type": "code",
   "execution_count": 1,
   "metadata": {},
   "outputs": [],
   "source": [
    "#==================================================================\n",
    "#Program: spectrumVisualizer\n",
    "#Author(s): David Helminiak\n",
    "#Date Created: September 2019\n",
    "#Date Last Modified: December 2019\n",
    "#Changelog: 0.1  - Visualization of samples direct from thermo .RAW files\n",
    "#           0.2  - Correction to match better with msi quickview\n",
    "#           0.3  - Added averaging code as default output option\n",
    "#\n",
    "#==================================================================\n",
    "\n",
    "#==================================================================\n",
    "#LIBRARY IMPORTS\n",
    "#==================================================================\n",
    "import numpy as np\n",
    "import matplotlib.pyplot as plt\n",
    "import glob\n",
    "import math\n",
    "import multiprocessing\n",
    "import natsort\n",
    "import os\n",
    "import re\n",
    "import shutil\n",
    "import sys\n",
    "import time\n",
    "from joblib import Parallel, delayed\n",
    "from PIL import Image\n",
    "from IPython.core.debugger import Tracer\n",
    "from thermoRawReader import thermoRAW_spectra\n",
    "from tqdm.auto import tqdm\n",
    "#==================================================================\n",
    "\n",
    "#MAIN PROGRAM\n",
    "#==================================================================\n",
    "\n",
    "mzArrays = []\n",
    "\n",
    "#81 uterine\n",
    "mzRanges = [\n",
    "     [412.5935, 412.6101], [454.874, 454.8922], [454.8844, 454.9026], [504.0148, 504.035], \n",
    "     [504.0269, 504.0471], [505.2008, 505.221], [518.3126, 518.3334], [534.2863, 534.3077], \n",
    "     [542.3123, 542.3339], [544.3277, 544.3495], [546.3435, 546.3653], [562.3172, 562.3396], \n",
    "     [569.3538, 569.3766], [576.3327, 576.3557], [611.1321, 611.1565], [613.7524, 613.777], \n",
    "     [615.4853, 615.5099], [617.501, 617.5258], [629.5815, 629.6067], [629.5972, 629.6224], \n",
    "     [631.4592, 631.4844], [633.4749, 633.5003], [639.485, 639.5106], [641.5007, 641.5263], \n",
    "     [643.5164, 643.5422], [655.4589, 655.4851], [657.4745, 657.5007], [659.4902, 659.5166], \n",
    "     [710.7395, 710.7679], [710.7586, 710.787], [725.5445, 725.5735], [728.5076, 728.5368], \n",
    "     [741.5183, 741.5479], [754.5229, 754.5531], [756.5384, 756.5686], [758.5527, 758.5831], \n",
    "     [760.5724, 760.6028], [768.5752, 768.606], [770.4966, 770.5274], [772.5123, 772.5433], \n",
    "     [780.5381, 780.5693], [782.695, 782.7264], [782.5539, 782.5853], [784.5587, 784.5901], \n",
    "     [784.5698, 784.6012], [786.5876, 786.619], [790.5587, 790.5903], [796.5119, 796.5437], \n",
    "     [798.5276, 798.5596], [802.5216, 802.5538], [804.5377, 804.5699], [806.5541, 806.5863], \n",
    "     [808.5691, 808.6015], [808.6845, 808.7169], [810.5858, 810.6182], [812.4946, 812.5272], \n",
    "     [816.5741, 816.6067], [818.5902, 818.623], [820.5114, 820.5442], [822.5278, 822.5608], \n",
    "     [824.5428, 824.5758], [826.5593, 826.5923], [828.5373, 828.5705], [830.553, 830.5862], \n",
    "     [832.5686, 832.602], [834.5859, 834.6193], [835.6523, 835.6857], [844.5109, 844.5447], \n",
    "     [846.5271, 846.5609], [848.5424, 848.5764], [850.5591, 850.5931], [856.5685, 856.6027], \n",
    "     [858.5849, 858.6193], [869.685, 869.7198], [893.6846, 893.7204], [897.7168, 897.7528], \n",
    "     [898.1341, 898.1701], [919.7003, 919.7371], [921.716, 921.7528], [923.7316, 923.7686], \n",
    "     [928.3363, 928.3735]\n",
    "]\n",
    "mzArrays.append(mzRanges)\n",
    "\n",
    "#86 uterine\n",
    "mzRanges = [\n",
    "    [136.0455, 136.0509], [154.0557, 154.0619], [170.0293, 170.0361], [280.0863, 280.0975], \n",
    "    [296.06, 296.0718], [412.5935, 412.6101], [454.874, 454.8922], [454.8844, 454.9026], \n",
    "    [504.0148, 504.035], [504.0269, 504.0471], [505.2008, 505.221], [518.3126, 518.3334], \n",
    "    [534.2863, 534.3077], [542.3123, 542.3339], [544.3277, 544.3495], [546.3435, 546.3653], \n",
    "    [562.3172, 562.3396], [569.3538, 569.3766], [576.3327, 576.3557], [611.1321, 611.1565], \n",
    "    [613.7524, 613.777], [615.4853, 615.5099], [617.501, 617.5258], [629.5815, 629.6067], \n",
    "    [629.5972, 629.6224], [631.4592, 631.4844], [633.4749, 633.5003], [639.485, 639.5106], \n",
    "    [641.5007, 641.5263], [643.5164, 643.5422], [655.4589, 655.4851], [657.4745, 657.5007], \n",
    "    [659.4902, 659.5166], [710.7395, 710.7679], [710.7586, 710.787], [725.5445, 725.5735], \n",
    "    [728.5076, 728.5368], [741.5183, 741.5479], [754.5229, 754.5531], [756.5384, 756.5686], \n",
    "    [758.5527, 758.5831], [760.5724, 760.6028], [768.5752, 768.606], [770.4966, 770.5274], \n",
    "    [772.5123, 772.5433], [780.5381, 780.5693], [782.5539, 782.5853], [782.695, 782.7264], \n",
    "    [784.5587, 784.5901], [784.5698, 784.6012], [786.5876, 786.619], [790.5587, 790.5903], \n",
    "    [796.5119, 796.5437], [798.5276, 798.5596], [802.5216, 802.5538], [804.5377, 804.5699], \n",
    "    [806.5541, 806.5863], [808.5691, 808.6015], [808.6845, 808.7169], [810.5858, 810.6182], \n",
    "    [812.4946, 812.5272], [816.5741, 816.6067], [818.5902, 818.623], [820.5114, 820.5442], \n",
    "    [822.5278, 822.5608], [824.5428, 824.5758], [826.5593, 826.5923], [828.5373, 828.5705], \n",
    "    [830.553, 830.5862], [832.5686, 832.602], [834.5859, 834.6193], [835.6523, 835.6857], \n",
    "    [844.5109, 844.5447], [846.5271, 846.5609], [848.5424, 848.5764], [850.5591, 850.5931], \n",
    "    [856.5685, 856.6027], [858.5849, 858.6193], [869.685, 869.7198], [893.6846, 893.7204], \n",
    "    [897.7168, 897.7528], [898.1341, 898.1701], [919.7003, 919.7371], [921.716, 921.7528], \n",
    "    [923.7316, 923.7686], [928.3363, 928.3735]\n",
    "]\n",
    "mzArrays.append(mzRanges)\n",
    "\n",
    "#87 uterine\n",
    "mzRanges = [\n",
    "    [124.0041, 124.0091], [128.032, 128.0372], [130.0589, 130.0641], [130.084, 130.0892],\n",
    "    [132.0268, 132.032], [135.0277, 135.0331], [140.0082, 140.0138], [145.0582, 145.064], \n",
    "    [146.0422, 146.048], [171.002, 171.0088], [171.0984, 171.1052], [175.0202, 175.0272], \n",
    "    [179.0516, 179.0588], [187.0929, 187.1003], [191.1755, 191.1831], [194.9797, 194.9875], \n",
    "    [199.1289, 199.1369], [211.1285, 211.1369], [214.0432, 214.0517], [215.1234, 215.1321], \n",
    "    [227.123, 227.132], [227.1595, 227.1685], [233.1486, 233.158], [235.1644, 235.1739], \n",
    "    [239.1591, 239.1687], [243.0558, 243.0656], [253.2109, 253.2211], [255.2264, 255.2366], \n",
    "    [256.0526, 256.0628], [257.2332, 257.2434], [259.0155, 259.0259], [267.0667, 267.0773], \n",
    "    [267.2262, 267.2368], [269.2419, 269.2526], [277.1375, 277.1485], [277.2105, 277.2215], \n",
    "    [279.153, 279.1642], [279.226, 279.2371], [281.2415, 281.2527], [281.2563, 281.2675], \n",
    "    [283.257, 283.2684], [293.2044, 293.2162], [295.2202, 295.232], [295.2568, 295.2686], \n",
    "    [297.2358, 297.2476], [301.2099, 301.2219], [303.2253, 303.2375], [305.2407, 305.2529], \n",
    "    [306.244, 306.2562], [307.2563, 307.2685], [309.2718, 309.2842], [311.287, 311.2994], \n",
    "    [317.1678, 317.1804], [319.2197, 319.2325], [321.2353, 321.2481], [322.0362, 322.049], \n",
    "    [323.0202, 323.0332], [323.2511, 323.2641], [327.2244, 327.2374], [329.24, 329.2532], \n",
    "    [331.2555, 331.2687], [333.2712, 333.2846], [335.2868, 335.3002], [337.3024, 337.3158], \n",
    "    [345.2346, 345.2484], [346.0467, 346.0605], [347.0309, 347.0447], [355.2554, 355.2696], \n",
    "    [357.2705, 357.2847], [359.2862, 359.3006], [362.0418, 362.0562], [365.3325, 365.3471], \n",
    "    [392.1188, 392.1344], [500.2646, 500.2846], [503.5483, 503.5685], [524.2651, 524.2861], \n",
    "    [549.2479, 549.2699], [549.248, 549.27], [552.2588, 552.2808], [552.2594, 552.2814], \n",
    "    [561.073, 561.0954], [599.3068, 599.3308], [664.4033, 664.4299], [692.4338, 692.4614], \n",
    "    [788.5251, 788.5567], [834.5101, 834.5435], [885.5276, 885.563]\n",
    "]\n",
    "mzArrays.append(mzRanges)\n",
    "\n",
    "#Add mz Ranges here\n",
    "\n",
    "def rowVisualizer_parhelper(mzRanges, maximumSpectraLength, mzValues, signalValues):\n",
    "    results = []\n",
    "    for mzRange in mzRanges:\n",
    "        lowMZ = min(mzValues, key=lambda x:abs(x-mzRange[0]))\n",
    "        highMZ = min(mzValues, key=lambda x:abs(x-mzRange[1]))\n",
    "        idxs = np.where((np.asarray(mzValues) >= lowMZ) & (np.asarray(mzValues) <= highMZ))[0]\n",
    "        if len(idxs) > 0:\n",
    "            signalValuesShort = signalValues[min(idxs):max(idxs)]\n",
    "            #Perdue version rounded the values before summation...\n",
    "            #for signalNum in range(0, len(signalValuesShort)):\n",
    "                #if (signalValuesShort[signalNum] % 1) == 0.5: \n",
    "                    #signalValuesShort[signalNum] = np.ceil(signalValuesShort[signalNum])\n",
    "            #results.append(np.sum(np.round(signalValuesShort)))\n",
    "            results.append(np.sum(signalValuesShort))\n",
    "        else:\n",
    "            results.append(0)\n",
    "    return results\n",
    "\n",
    "\n",
    "dir_ResultsAndData = '.' + os.path.sep + 'ResultsAndData' + os.path.sep\n",
    "dir_InputData = dir_ResultsAndData + 'InputData' + os.path.sep\n",
    "dir_Results = dir_ResultsAndData + 'Results' + os.path.sep\n"
   ]
  },
  {
   "cell_type": "code",
   "execution_count": null,
   "metadata": {
    "scrolled": false
   },
   "outputs": [],
   "source": [
    "#Set the time resolution to perform interpolation over; def: 0.001\n",
    "timeRes = 0.001\n",
    "\n",
    "#Set resultant number of pixels to interp over\n",
    "numInterpCols = int(1/timeRes)\n",
    "\n",
    "#Set the number of available CPU threads\n",
    "num_threads = multiprocessing.cpu_count()-2 #Leave a couple to spare\n",
    "\n",
    "#For each of the mz sets\n",
    "for mzRanges in mzArrays:\n",
    "\n",
    "    #For each of the samples\n",
    "    dataSampleNames = []\n",
    "    sortedFolders = natsort.natsorted(glob.glob(dir_InputData +str(len(mzRanges))+'/*'),reverse=False)\n",
    "    for trainingSampleFolderNum in range(0,len(sortedFolders)):\n",
    "        trainingSampleFolder = sortedFolders[trainingSampleFolderNum]\n",
    "\n",
    "        dataSampleName = os.path.basename(trainingSampleFolder)\n",
    "        print('Sample', dataSampleName)\n",
    "\n",
    "        resultPath = dir_Results + dataSampleName\n",
    "        if os.path.exists(resultPath): shutil.rmtree(resultPath)\n",
    "        os.makedirs(resultPath)    \n",
    "\n",
    "        dataSampleNames.append(dataSampleName)\n",
    "\n",
    "        fileNames = natsort.natsorted(glob.glob(trainingSampleFolder + '/*.RAW'),reverse=False)\n",
    "\n",
    "        result = Parallel(n_jobs=num_threads)(delayed(thermoRAW_spectra)(fileNames[fileNum]) for fileNum in tqdm(range(0,len(fileNames)), desc = 'RAW FILES', leave = True))\n",
    "\n",
    "        result = np.asarray(result)\n",
    "\n",
    "        spectraList, indexesList = result[:,0], result[:,1]\n",
    "\n",
    "        lengths = []\n",
    "        for x in range(0,len(spectraList)): lengths.append(len(spectraList[x]))\n",
    "        maximumSpectraLength = max(lengths)\n",
    "\n",
    "        #Create holding arrays for the visualizations\n",
    "        mzImages = []\n",
    "        for mzNum in range(0, len(mzRanges)): mzImages.append([])\n",
    "\n",
    "        #Perform the visualizations for all of the specified mass ranges\n",
    "        for rowNum in tqdm(range(0,len(spectraList)), desc = 'ROW', leave = True):\n",
    "            results = Parallel(n_jobs=num_threads)(delayed(rowVisualizer_parhelper)(mzRanges, maximumSpectraLength, spectraList[rowNum][columnNum].mzValues, spectraList[rowNum][columnNum].signalValues) for columnNum in tqdm(range(0,len(spectraList[rowNum])), desc = 'COL', leave = False))\n",
    "            results = np.asarray(results).T\n",
    "            for mzNum in range(0, len(mzRanges)): mzImages[mzNum].append(results[mzNum])\n",
    "       \n",
    "        #Extract all unique measurement times for alignment\n",
    "        allTimes = []\n",
    "        for rowNum in range(0,len(indexesList)): allTimes.append([scanIndex.time for scanIndex in indexesList[rowNum]])\n",
    "        uniqueTimes = np.unique([pxNum for row in allTimes for pxNum in row])\n",
    "        newTimes = np.linspace(min(uniqueTimes), max(uniqueTimes), numInterpCols)\n",
    "\n",
    "        #For each of the mzImages, interpolate over time-domain for row alignment\n",
    "        newImages = []\n",
    "        for mzImage in mzImages:\n",
    "            newImage = []\n",
    "            for rowNum in range(0,len(mzImage)):\n",
    "                origValues = mzImage[rowNum]\n",
    "                origTimes = [scanIndex.time for scanIndex in indexesList[rowNum]]\n",
    "                newImage.append(np.interp(newTimes, origTimes, origValues).tolist())\n",
    "            newImages.append(newImage)\n",
    "\n",
    "        #Save each of the visualizations\n",
    "        for mzNum in tqdm(range(0, len(mzRanges)), desc = 'SAVE', leave = True):\n",
    "            np.savetxt(resultPath + '/mz' + ('%.4f' % mzRanges[mzNum][0]) + '_' + ('%.4f' % mzRanges[mzNum][1]) + 'fn' + dataSampleName + 'ns' + str(len(spectraList)) + '.csv', newImages[mzNum], delimiter=\",\")\n",
    "            plt.imshow(np.asarray(newImages[mzNum]), aspect='auto', cmap = 'hot')\n",
    "            plt.savefig(resultPath + '/mz' + ('%.4f' % mzRanges[mzNum][0]) + '_' + ('%.4f' % mzRanges[mzNum][1]) + 'fn' + dataSampleName + 'ns' + str(len(spectraList)) + '.png')\n",
    "            plt.close()\n",
    "\n",
    "        mzWeights = np.ones(len(newImages))/len(newImages)\n",
    "        avgImage = np.average(np.asarray(newImages), axis=0, weights=mzWeights)\n",
    "        plt.imshow(avgImage, cmap='hot')\n",
    "        plt.savefig(resultPath +'/'+ dataSampleName + '_avg_origAspect.png')\n",
    "        plt.imshow(avgImage,cmap='hot',aspect='auto')\n",
    "        plt.savefig(resultPath +'/'+ dataSampleName + '_avg_autoAspect.png')\n",
    "        \n",
    "        #Plot mosaic here\n",
    "        "
   ]
  },
  {
   "cell_type": "code",
   "execution_count": null,
   "metadata": {},
   "outputs": [],
   "source": []
  },
  {
   "cell_type": "code",
   "execution_count": null,
   "metadata": {},
   "outputs": [],
   "source": []
  },
  {
   "cell_type": "code",
   "execution_count": null,
   "metadata": {},
   "outputs": [],
   "source": []
  },
  {
   "cell_type": "code",
   "execution_count": null,
   "metadata": {},
   "outputs": [],
   "source": []
  },
  {
   "cell_type": "code",
   "execution_count": null,
   "metadata": {},
   "outputs": [],
   "source": []
  },
  {
   "cell_type": "code",
   "execution_count": null,
   "metadata": {},
   "outputs": [],
   "source": []
  },
  {
   "cell_type": "code",
   "execution_count": null,
   "metadata": {},
   "outputs": [],
   "source": []
  },
  {
   "cell_type": "code",
   "execution_count": null,
   "metadata": {},
   "outputs": [],
   "source": [
    "import cv2\n",
    "#compute the Laplacian of the image and then return the focus measure, which is simply the variance of the Laplacian\n",
    "cv2.Laplacian(mzImages[10], cv2.CV_64F).var()"
   ]
  },
  {
   "cell_type": "code",
   "execution_count": null,
   "metadata": {},
   "outputs": [],
   "source": [
    "#Pancreatic mz Ranges\n",
    "# mzRanges = [\n",
    "#       [516.2963, 516.3169],\n",
    "#       [518.3119, 518.3326],\n",
    "#       [540.2958, 540.3174],\n",
    "#       [542.3114, 542.3331],\n",
    "#       [544.327, 544.3488],\n",
    "#       [546.3426, 546.3645],\n",
    "#       [560.3576, 560.38],\n",
    "#       [564.2953, 564.3179],\n",
    "#       [566.3109, 566.3336],\n",
    "#       [568.3265, 568.3493],\n",
    "#       [570.3421, 570.3649],\n",
    "#       [590.3104, 590.334],\n",
    "#       [592.326, 592.3497],\n",
    "#       [725.5429, 725.5719],\n",
    "#       [754.5212, 754.5513],\n",
    "#       [756.5368, 756.567],\n",
    "#       [780.5363, 780.5675],\n",
    "#       [782.5519, 782.5832],\n",
    "#       [804.5358, 804.568],\n",
    "#       [806.5514, 806.5837],\n",
    "#       [808.567, 808.5994],\n",
    "#       [810.5826, 810.6151],\n",
    "#       [828.5353, 828.5685],\n",
    "#       [830.5509, 830.5842],\n",
    "#       [832.5665, 832.5999],\n",
    "#       [856.5661, 856.6003]]\n",
    "\n",
    "#81 uterine\n",
    "mzRanges = [\n",
    "     [412.5935, 412.6101], [454.874, 454.8922], [454.8844, 454.9026], [504.0148, 504.035], \n",
    "     [504.0269, 504.0471], [505.2008, 505.221], [518.3126, 518.3334], [534.2863, 534.3077], \n",
    "     [542.3123, 542.3339], [544.3277, 544.3495], [546.3435, 546.3653], [562.3172, 562.3396], \n",
    "     [569.3538, 569.3766], [576.3327, 576.3557], [611.1321, 611.1565], [613.7524, 613.777], \n",
    "     [615.4853, 615.5099], [617.501, 617.5258], [629.5815, 629.6067], [629.5972, 629.6224], \n",
    "     [631.4592, 631.4844], [633.4749, 633.5003], [639.485, 639.5106], [641.5007, 641.5263], \n",
    "     [643.5164, 643.5422], [655.4589, 655.4851], [657.4745, 657.5007], [659.4902, 659.5166], \n",
    "     [710.7395, 710.7679], [710.7586, 710.787], [725.5445, 725.5735], [728.5076, 728.5368], \n",
    "     [741.5183, 741.5479], [754.5229, 754.5531], [756.5384, 756.5686], [758.5527, 758.5831], \n",
    "     [760.5724, 760.6028], [768.5752, 768.606], [770.4966, 770.5274], [772.5123, 772.5433], \n",
    "     [780.5381, 780.5693], [782.695, 782.7264], [782.5539, 782.5853], [784.5587, 784.5901], \n",
    "     [784.5698, 784.6012], [786.5876, 786.619], [790.5587, 790.5903], [796.5119, 796.5437], \n",
    "     [798.5276, 798.5596], [802.5216, 802.5538], [804.5377, 804.5699], [806.5541, 806.5863], \n",
    "     [808.5691, 808.6015], [808.6845, 808.7169], [810.5858, 810.6182], [812.4946, 812.5272], \n",
    "     [816.5741, 816.6067], [818.5902, 818.623], [820.5114, 820.5442], [822.5278, 822.5608], \n",
    "     [824.5428, 824.5758], [826.5593, 826.5923], [828.5373, 828.5705], [830.553, 830.5862], \n",
    "     [832.5686, 832.602], [834.5859, 834.6193], [835.6523, 835.6857], [844.5109, 844.5447], \n",
    "     [846.5271, 846.5609], [848.5424, 848.5764], [850.5591, 850.5931], [856.5685, 856.6027], \n",
    "     [858.5849, 858.6193], [869.685, 869.7198], [893.6846, 893.7204], [897.7168, 897.7528], \n",
    "     [898.1341, 898.1701], [919.7003, 919.7371], [921.716, 921.7528], [923.7316, 923.7686], \n",
    "     [928.3363, 928.3735]\n",
    "]\n",
    "mzArrays.append(mzRanges)\n",
    "\n",
    "#86 uterine\n",
    "mzRanges = [\n",
    "    [136.0455, 136.0509], [154.0557, 154.0619], [170.0293, 170.0361], [280.0863, 280.0975], \n",
    "    [296.06, 296.0718], [412.5935, 412.6101], [454.874, 454.8922], [454.8844, 454.9026], \n",
    "    [504.0148, 504.035], [504.0269, 504.0471], [505.2008, 505.221], [518.3126, 518.3334], \n",
    "    [534.2863, 534.3077], [542.3123, 542.3339], [544.3277, 544.3495], [546.3435, 546.3653], \n",
    "    [562.3172, 562.3396], [569.3538, 569.3766], [576.3327, 576.3557], [611.1321, 611.1565], \n",
    "    [613.7524, 613.777], [615.4853, 615.5099], [617.501, 617.5258], [629.5815, 629.6067], \n",
    "    [629.5972, 629.6224], [631.4592, 631.4844], [633.4749, 633.5003], [639.485, 639.5106], \n",
    "    [641.5007, 641.5263], [643.5164, 643.5422], [655.4589, 655.4851], [657.4745, 657.5007], \n",
    "    [659.4902, 659.5166], [710.7395, 710.7679], [710.7586, 710.787], [725.5445, 725.5735], \n",
    "    [728.5076, 728.5368], [741.5183, 741.5479], [754.5229, 754.5531], [756.5384, 756.5686], \n",
    "    [758.5527, 758.5831], [760.5724, 760.6028], [768.5752, 768.606], [770.4966, 770.5274], \n",
    "    [772.5123, 772.5433], [780.5381, 780.5693], [782.5539, 782.5853], [782.695, 782.7264], \n",
    "    [784.5587, 784.5901], [784.5698, 784.6012], [786.5876, 786.619], [790.5587, 790.5903], \n",
    "    [796.5119, 796.5437], [798.5276, 798.5596], [802.5216, 802.5538], [804.5377, 804.5699], \n",
    "    [806.5541, 806.5863], [808.5691, 808.6015], [808.6845, 808.7169], [810.5858, 810.6182], \n",
    "    [812.4946, 812.5272], [816.5741, 816.6067], [818.5902, 818.623], [820.5114, 820.5442], \n",
    "    [822.5278, 822.5608], [824.5428, 824.5758], [826.5593, 826.5923], [828.5373, 828.5705], \n",
    "    [830.553, 830.5862], [832.5686, 832.602], [834.5859, 834.6193], [835.6523, 835.6857], \n",
    "    [844.5109, 844.5447], [846.5271, 846.5609], [848.5424, 848.5764], [850.5591, 850.5931], \n",
    "    [856.5685, 856.6027], [858.5849, 858.6193], [869.685, 869.7198], [893.6846, 893.7204], \n",
    "    [897.7168, 897.7528], [898.1341, 898.1701], [919.7003, 919.7371], [921.716, 921.7528], \n",
    "    [923.7316, 923.7686], [928.3363, 928.3735]\n",
    "]\n",
    "mzArrays.append(mzRanges)\n",
    "\n",
    "#87 uterine\n",
    "mzRanges = [\n",
    "    [124.0041, 124.0091], [128.032, 128.0372], [130.0589, 130.0641], [130.084, 130.0892],\n",
    "    [132.0268, 132.032], [135.0277, 135.0331], [140.0082, 140.0138], [145.0582, 145.064], \n",
    "    [146.0422, 146.048], [171.002, 171.0088], [171.0984, 171.1052], [175.0202, 175.0272], \n",
    "    [179.0516, 179.0588], [187.0929, 187.1003], [191.1755, 191.1831], [194.9797, 194.9875], \n",
    "    [199.1289, 199.1369], [211.1285, 211.1369], [214.0432, 214.0517], [215.1234, 215.1321], \n",
    "    [227.123, 227.132], [227.1595, 227.1685], [233.1486, 233.158], [235.1644, 235.1739], \n",
    "    [239.1591, 239.1687], [243.0558, 243.0656], [253.2109, 253.2211], [255.2264, 255.2366], \n",
    "    [256.0526, 256.0628], [257.2332, 257.2434], [259.0155, 259.0259], [267.0667, 267.0773], \n",
    "    [267.2262, 267.2368], [269.2419, 269.2526], [277.1375, 277.1485], [277.2105, 277.2215], \n",
    "    [279.153, 279.1642], [279.226, 279.2371], [281.2415, 281.2527], [281.2563, 281.2675], \n",
    "    [283.257, 283.2684], [293.2044, 293.2162], [295.2202, 295.232], [295.2568, 295.2686], \n",
    "    [297.2358, 297.2476], [301.2099, 301.2219], [303.2253, 303.2375], [305.2407, 305.2529], \n",
    "    [306.244, 306.2562], [307.2563, 307.2685], [309.2718, 309.2842], [311.287, 311.2994], \n",
    "    [317.1678, 317.1804], [319.2197, 319.2325], [321.2353, 321.2481], [322.0362, 322.049], \n",
    "    [323.0202, 323.0332], [323.2511, 323.2641], [327.2244, 327.2374], [329.24, 329.2532], \n",
    "    [331.2555, 331.2687], [333.2712, 333.2846], [335.2868, 335.3002], [337.3024, 337.3158], \n",
    "    [345.2346, 345.2484], [346.0467, 346.0605], [347.0309, 347.0447], [355.2554, 355.2696], \n",
    "    [357.2705, 357.2847], [359.2862, 359.3006], [362.0418, 362.0562], [365.3325, 365.3471], \n",
    "    [392.1188, 392.1344], [500.2646, 500.2846], [503.5483, 503.5685], [524.2651, 524.2861], \n",
    "    [549.2479, 549.2699], [549.248, 549.27], [552.2588, 552.2808], [552.2594, 552.2814], \n",
    "    [561.073, 561.0954], [599.3068, 599.3308], [664.4033, 664.4299], [692.4338, 692.4614], \n",
    "    [788.5251, 788.5567], [834.5101, 834.5435], [885.5276, 885.563]\n",
    "]\n",
    "mzArrays.append(mzRanges)\n",
    "\n",
    "\n",
    "#10 new uterine\n",
    "mzRanges = [\n",
    "    [140.0079, 140.0135],\n",
    "    [161.0414, 161.0478],\n",
    "    [242.0749, 242.0845],\n",
    "    [261.1292, 261.1396],\n",
    "    [346.0487, 346.0625],\n",
    "    [355.2572, 355.2714],\n",
    "    [528.2627, 528.2839],\n",
    "    [538.5096, 538.5312],\n",
    "    [646.6018, 646.6276],\n",
    "    [838.5427, 838.5763]\n",
    "]\n",
    "mzArrays.append(mzRanges)\n"
   ]
  },
  {
   "cell_type": "code",
   "execution_count": null,
   "metadata": {},
   "outputs": [],
   "source": []
  },
  {
   "cell_type": "code",
   "execution_count": 2,
   "metadata": {},
   "outputs": [
    {
     "name": "stdout",
     "output_type": "stream",
     "text": [
      "('Sample', 'Slide6-V2-2')\n"
     ]
    },
    {
     "data": {
      "application/vnd.jupyter.widget-view+json": {
       "model_id": "a022aeba8c3c43b881b2aa250ef87b74",
       "version_major": 2,
       "version_minor": 0
      },
      "text/plain": [
       "SEJveChjaGlsZHJlbj0oRmxvYXRQcm9ncmVzcyh2YWx1ZT0wLjAsIGRlc2NyaXB0aW9uPXUnUkFXIEZJTEVTJywgbWF4PTYyLjAsIHN0eWxlPVByb2dyZXNzU3R5bGUoZGVzY3JpcHRpb25fd2nigKY=\n"
      ]
     },
     "metadata": {},
     "output_type": "display_data"
    },
    {
     "name": "stdout",
     "output_type": "stream",
     "text": [
      "\n"
     ]
    },
    {
     "data": {
      "application/vnd.jupyter.widget-view+json": {
       "model_id": "724a67359e95460d94b5bae4427678db",
       "version_major": 2,
       "version_minor": 0
      },
      "text/plain": [
       "SEJveChjaGlsZHJlbj0oRmxvYXRQcm9ncmVzcyh2YWx1ZT0wLjAsIGRlc2NyaXB0aW9uPXUnUk9XJywgbWF4PTYyLjAsIHN0eWxlPVByb2dyZXNzU3R5bGUoZGVzY3JpcHRpb25fd2lkdGg9dSfigKY=\n"
      ]
     },
     "metadata": {},
     "output_type": "display_data"
    },
    {
     "data": {
      "application/vnd.jupyter.widget-view+json": {
       "model_id": "",
       "version_major": 2,
       "version_minor": 0
      },
      "text/plain": [
       "SEJveChjaGlsZHJlbj0oRmxvYXRQcm9ncmVzcyh2YWx1ZT0wLjAsIGRlc2NyaXB0aW9uPXUnQ09MJywgbWF4PTMwNC4wLCBzdHlsZT1Qcm9ncmVzc1N0eWxlKGRlc2NyaXB0aW9uX3dpZHRoPXXigKY=\n"
      ]
     },
     "metadata": {},
     "output_type": "display_data"
    },
    {
     "data": {
      "application/vnd.jupyter.widget-view+json": {
       "model_id": "",
       "version_major": 2,
       "version_minor": 0
      },
      "text/plain": [
       "SEJveChjaGlsZHJlbj0oRmxvYXRQcm9ncmVzcyh2YWx1ZT0wLjAsIGRlc2NyaXB0aW9uPXUnQ09MJywgbWF4PTMwNC4wLCBzdHlsZT1Qcm9ncmVzc1N0eWxlKGRlc2NyaXB0aW9uX3dpZHRoPXXigKY=\n"
      ]
     },
     "metadata": {},
     "output_type": "display_data"
    },
    {
     "data": {
      "application/vnd.jupyter.widget-view+json": {
       "model_id": "",
       "version_major": 2,
       "version_minor": 0
      },
      "text/plain": [
       "SEJveChjaGlsZHJlbj0oRmxvYXRQcm9ncmVzcyh2YWx1ZT0wLjAsIGRlc2NyaXB0aW9uPXUnQ09MJywgbWF4PTMwNC4wLCBzdHlsZT1Qcm9ncmVzc1N0eWxlKGRlc2NyaXB0aW9uX3dpZHRoPXXigKY=\n"
      ]
     },
     "metadata": {},
     "output_type": "display_data"
    },
    {
     "data": {
      "application/vnd.jupyter.widget-view+json": {
       "model_id": "",
       "version_major": 2,
       "version_minor": 0
      },
      "text/plain": [
       "SEJveChjaGlsZHJlbj0oRmxvYXRQcm9ncmVzcyh2YWx1ZT0wLjAsIGRlc2NyaXB0aW9uPXUnQ09MJywgbWF4PTMwNC4wLCBzdHlsZT1Qcm9ncmVzc1N0eWxlKGRlc2NyaXB0aW9uX3dpZHRoPXXigKY=\n"
      ]
     },
     "metadata": {},
     "output_type": "display_data"
    },
    {
     "data": {
      "application/vnd.jupyter.widget-view+json": {
       "model_id": "",
       "version_major": 2,
       "version_minor": 0
      },
      "text/plain": [
       "SEJveChjaGlsZHJlbj0oRmxvYXRQcm9ncmVzcyh2YWx1ZT0wLjAsIGRlc2NyaXB0aW9uPXUnQ09MJywgbWF4PTMwNC4wLCBzdHlsZT1Qcm9ncmVzc1N0eWxlKGRlc2NyaXB0aW9uX3dpZHRoPXXigKY=\n"
      ]
     },
     "metadata": {},
     "output_type": "display_data"
    },
    {
     "data": {
      "application/vnd.jupyter.widget-view+json": {
       "model_id": "",
       "version_major": 2,
       "version_minor": 0
      },
      "text/plain": [
       "SEJveChjaGlsZHJlbj0oRmxvYXRQcm9ncmVzcyh2YWx1ZT0wLjAsIGRlc2NyaXB0aW9uPXUnQ09MJywgbWF4PTMwMy4wLCBzdHlsZT1Qcm9ncmVzc1N0eWxlKGRlc2NyaXB0aW9uX3dpZHRoPXXigKY=\n"
      ]
     },
     "metadata": {},
     "output_type": "display_data"
    },
    {
     "data": {
      "application/vnd.jupyter.widget-view+json": {
       "model_id": "",
       "version_major": 2,
       "version_minor": 0
      },
      "text/plain": [
       "SEJveChjaGlsZHJlbj0oRmxvYXRQcm9ncmVzcyh2YWx1ZT0wLjAsIGRlc2NyaXB0aW9uPXUnQ09MJywgbWF4PTMwNC4wLCBzdHlsZT1Qcm9ncmVzc1N0eWxlKGRlc2NyaXB0aW9uX3dpZHRoPXXigKY=\n"
      ]
     },
     "metadata": {},
     "output_type": "display_data"
    },
    {
     "data": {
      "application/vnd.jupyter.widget-view+json": {
       "model_id": "",
       "version_major": 2,
       "version_minor": 0
      },
      "text/plain": [
       "SEJveChjaGlsZHJlbj0oRmxvYXRQcm9ncmVzcyh2YWx1ZT0wLjAsIGRlc2NyaXB0aW9uPXUnQ09MJywgbWF4PTMwNC4wLCBzdHlsZT1Qcm9ncmVzc1N0eWxlKGRlc2NyaXB0aW9uX3dpZHRoPXXigKY=\n"
      ]
     },
     "metadata": {},
     "output_type": "display_data"
    },
    {
     "data": {
      "application/vnd.jupyter.widget-view+json": {
       "model_id": "",
       "version_major": 2,
       "version_minor": 0
      },
      "text/plain": [
       "SEJveChjaGlsZHJlbj0oRmxvYXRQcm9ncmVzcyh2YWx1ZT0wLjAsIGRlc2NyaXB0aW9uPXUnQ09MJywgbWF4PTMwNC4wLCBzdHlsZT1Qcm9ncmVzc1N0eWxlKGRlc2NyaXB0aW9uX3dpZHRoPXXigKY=\n"
      ]
     },
     "metadata": {},
     "output_type": "display_data"
    },
    {
     "data": {
      "application/vnd.jupyter.widget-view+json": {
       "model_id": "",
       "version_major": 2,
       "version_minor": 0
      },
      "text/plain": [
       "SEJveChjaGlsZHJlbj0oRmxvYXRQcm9ncmVzcyh2YWx1ZT0wLjAsIGRlc2NyaXB0aW9uPXUnQ09MJywgbWF4PTMwMy4wLCBzdHlsZT1Qcm9ncmVzc1N0eWxlKGRlc2NyaXB0aW9uX3dpZHRoPXXigKY=\n"
      ]
     },
     "metadata": {},
     "output_type": "display_data"
    },
    {
     "data": {
      "application/vnd.jupyter.widget-view+json": {
       "model_id": "",
       "version_major": 2,
       "version_minor": 0
      },
      "text/plain": [
       "SEJveChjaGlsZHJlbj0oRmxvYXRQcm9ncmVzcyh2YWx1ZT0wLjAsIGRlc2NyaXB0aW9uPXUnQ09MJywgbWF4PTMwNC4wLCBzdHlsZT1Qcm9ncmVzc1N0eWxlKGRlc2NyaXB0aW9uX3dpZHRoPXXigKY=\n"
      ]
     },
     "metadata": {},
     "output_type": "display_data"
    },
    {
     "data": {
      "application/vnd.jupyter.widget-view+json": {
       "model_id": "",
       "version_major": 2,
       "version_minor": 0
      },
      "text/plain": [
       "SEJveChjaGlsZHJlbj0oRmxvYXRQcm9ncmVzcyh2YWx1ZT0wLjAsIGRlc2NyaXB0aW9uPXUnQ09MJywgbWF4PTMwMy4wLCBzdHlsZT1Qcm9ncmVzc1N0eWxlKGRlc2NyaXB0aW9uX3dpZHRoPXXigKY=\n"
      ]
     },
     "metadata": {},
     "output_type": "display_data"
    },
    {
     "data": {
      "application/vnd.jupyter.widget-view+json": {
       "model_id": "",
       "version_major": 2,
       "version_minor": 0
      },
      "text/plain": [
       "SEJveChjaGlsZHJlbj0oRmxvYXRQcm9ncmVzcyh2YWx1ZT0wLjAsIGRlc2NyaXB0aW9uPXUnQ09MJywgbWF4PTMwNC4wLCBzdHlsZT1Qcm9ncmVzc1N0eWxlKGRlc2NyaXB0aW9uX3dpZHRoPXXigKY=\n"
      ]
     },
     "metadata": {},
     "output_type": "display_data"
    },
    {
     "data": {
      "application/vnd.jupyter.widget-view+json": {
       "model_id": "",
       "version_major": 2,
       "version_minor": 0
      },
      "text/plain": [
       "SEJveChjaGlsZHJlbj0oRmxvYXRQcm9ncmVzcyh2YWx1ZT0wLjAsIGRlc2NyaXB0aW9uPXUnQ09MJywgbWF4PTMwMy4wLCBzdHlsZT1Qcm9ncmVzc1N0eWxlKGRlc2NyaXB0aW9uX3dpZHRoPXXigKY=\n"
      ]
     },
     "metadata": {},
     "output_type": "display_data"
    },
    {
     "data": {
      "application/vnd.jupyter.widget-view+json": {
       "model_id": "",
       "version_major": 2,
       "version_minor": 0
      },
      "text/plain": [
       "SEJveChjaGlsZHJlbj0oRmxvYXRQcm9ncmVzcyh2YWx1ZT0wLjAsIGRlc2NyaXB0aW9uPXUnQ09MJywgbWF4PTMwNC4wLCBzdHlsZT1Qcm9ncmVzc1N0eWxlKGRlc2NyaXB0aW9uX3dpZHRoPXXigKY=\n"
      ]
     },
     "metadata": {},
     "output_type": "display_data"
    },
    {
     "data": {
      "application/vnd.jupyter.widget-view+json": {
       "model_id": "",
       "version_major": 2,
       "version_minor": 0
      },
      "text/plain": [
       "SEJveChjaGlsZHJlbj0oRmxvYXRQcm9ncmVzcyh2YWx1ZT0wLjAsIGRlc2NyaXB0aW9uPXUnQ09MJywgbWF4PTMwNC4wLCBzdHlsZT1Qcm9ncmVzc1N0eWxlKGRlc2NyaXB0aW9uX3dpZHRoPXXigKY=\n"
      ]
     },
     "metadata": {},
     "output_type": "display_data"
    },
    {
     "data": {
      "application/vnd.jupyter.widget-view+json": {
       "model_id": "",
       "version_major": 2,
       "version_minor": 0
      },
      "text/plain": [
       "SEJveChjaGlsZHJlbj0oRmxvYXRQcm9ncmVzcyh2YWx1ZT0wLjAsIGRlc2NyaXB0aW9uPXUnQ09MJywgbWF4PTMwNC4wLCBzdHlsZT1Qcm9ncmVzc1N0eWxlKGRlc2NyaXB0aW9uX3dpZHRoPXXigKY=\n"
      ]
     },
     "metadata": {},
     "output_type": "display_data"
    },
    {
     "data": {
      "application/vnd.jupyter.widget-view+json": {
       "model_id": "",
       "version_major": 2,
       "version_minor": 0
      },
      "text/plain": [
       "SEJveChjaGlsZHJlbj0oRmxvYXRQcm9ncmVzcyh2YWx1ZT0wLjAsIGRlc2NyaXB0aW9uPXUnQ09MJywgbWF4PTMwNC4wLCBzdHlsZT1Qcm9ncmVzc1N0eWxlKGRlc2NyaXB0aW9uX3dpZHRoPXXigKY=\n"
      ]
     },
     "metadata": {},
     "output_type": "display_data"
    },
    {
     "data": {
      "application/vnd.jupyter.widget-view+json": {
       "model_id": "",
       "version_major": 2,
       "version_minor": 0
      },
      "text/plain": [
       "SEJveChjaGlsZHJlbj0oRmxvYXRQcm9ncmVzcyh2YWx1ZT0wLjAsIGRlc2NyaXB0aW9uPXUnQ09MJywgbWF4PTMwNC4wLCBzdHlsZT1Qcm9ncmVzc1N0eWxlKGRlc2NyaXB0aW9uX3dpZHRoPXXigKY=\n"
      ]
     },
     "metadata": {},
     "output_type": "display_data"
    },
    {
     "data": {
      "application/vnd.jupyter.widget-view+json": {
       "model_id": "",
       "version_major": 2,
       "version_minor": 0
      },
      "text/plain": [
       "SEJveChjaGlsZHJlbj0oRmxvYXRQcm9ncmVzcyh2YWx1ZT0wLjAsIGRlc2NyaXB0aW9uPXUnQ09MJywgbWF4PTMwNC4wLCBzdHlsZT1Qcm9ncmVzc1N0eWxlKGRlc2NyaXB0aW9uX3dpZHRoPXXigKY=\n"
      ]
     },
     "metadata": {},
     "output_type": "display_data"
    },
    {
     "data": {
      "application/vnd.jupyter.widget-view+json": {
       "model_id": "",
       "version_major": 2,
       "version_minor": 0
      },
      "text/plain": [
       "SEJveChjaGlsZHJlbj0oRmxvYXRQcm9ncmVzcyh2YWx1ZT0wLjAsIGRlc2NyaXB0aW9uPXUnQ09MJywgbWF4PTMwNC4wLCBzdHlsZT1Qcm9ncmVzc1N0eWxlKGRlc2NyaXB0aW9uX3dpZHRoPXXigKY=\n"
      ]
     },
     "metadata": {},
     "output_type": "display_data"
    },
    {
     "data": {
      "application/vnd.jupyter.widget-view+json": {
       "model_id": "",
       "version_major": 2,
       "version_minor": 0
      },
      "text/plain": [
       "SEJveChjaGlsZHJlbj0oRmxvYXRQcm9ncmVzcyh2YWx1ZT0wLjAsIGRlc2NyaXB0aW9uPXUnQ09MJywgbWF4PTMwNC4wLCBzdHlsZT1Qcm9ncmVzc1N0eWxlKGRlc2NyaXB0aW9uX3dpZHRoPXXigKY=\n"
      ]
     },
     "metadata": {},
     "output_type": "display_data"
    },
    {
     "data": {
      "application/vnd.jupyter.widget-view+json": {
       "model_id": "",
       "version_major": 2,
       "version_minor": 0
      },
      "text/plain": [
       "SEJveChjaGlsZHJlbj0oRmxvYXRQcm9ncmVzcyh2YWx1ZT0wLjAsIGRlc2NyaXB0aW9uPXUnQ09MJywgbWF4PTMwNC4wLCBzdHlsZT1Qcm9ncmVzc1N0eWxlKGRlc2NyaXB0aW9uX3dpZHRoPXXigKY=\n"
      ]
     },
     "metadata": {},
     "output_type": "display_data"
    },
    {
     "data": {
      "application/vnd.jupyter.widget-view+json": {
       "model_id": "",
       "version_major": 2,
       "version_minor": 0
      },
      "text/plain": [
       "SEJveChjaGlsZHJlbj0oRmxvYXRQcm9ncmVzcyh2YWx1ZT0wLjAsIGRlc2NyaXB0aW9uPXUnQ09MJywgbWF4PTMwNS4wLCBzdHlsZT1Qcm9ncmVzc1N0eWxlKGRlc2NyaXB0aW9uX3dpZHRoPXXigKY=\n"
      ]
     },
     "metadata": {},
     "output_type": "display_data"
    },
    {
     "data": {
      "application/vnd.jupyter.widget-view+json": {
       "model_id": "",
       "version_major": 2,
       "version_minor": 0
      },
      "text/plain": [
       "SEJveChjaGlsZHJlbj0oRmxvYXRQcm9ncmVzcyh2YWx1ZT0wLjAsIGRlc2NyaXB0aW9uPXUnQ09MJywgbWF4PTMwNS4wLCBzdHlsZT1Qcm9ncmVzc1N0eWxlKGRlc2NyaXB0aW9uX3dpZHRoPXXigKY=\n"
      ]
     },
     "metadata": {},
     "output_type": "display_data"
    },
    {
     "data": {
      "application/vnd.jupyter.widget-view+json": {
       "model_id": "",
       "version_major": 2,
       "version_minor": 0
      },
      "text/plain": [
       "SEJveChjaGlsZHJlbj0oRmxvYXRQcm9ncmVzcyh2YWx1ZT0wLjAsIGRlc2NyaXB0aW9uPXUnQ09MJywgbWF4PTMwNC4wLCBzdHlsZT1Qcm9ncmVzc1N0eWxlKGRlc2NyaXB0aW9uX3dpZHRoPXXigKY=\n"
      ]
     },
     "metadata": {},
     "output_type": "display_data"
    },
    {
     "data": {
      "application/vnd.jupyter.widget-view+json": {
       "model_id": "",
       "version_major": 2,
       "version_minor": 0
      },
      "text/plain": [
       "SEJveChjaGlsZHJlbj0oRmxvYXRQcm9ncmVzcyh2YWx1ZT0wLjAsIGRlc2NyaXB0aW9uPXUnQ09MJywgbWF4PTMwNC4wLCBzdHlsZT1Qcm9ncmVzc1N0eWxlKGRlc2NyaXB0aW9uX3dpZHRoPXXigKY=\n"
      ]
     },
     "metadata": {},
     "output_type": "display_data"
    },
    {
     "data": {
      "application/vnd.jupyter.widget-view+json": {
       "model_id": "",
       "version_major": 2,
       "version_minor": 0
      },
      "text/plain": [
       "SEJveChjaGlsZHJlbj0oRmxvYXRQcm9ncmVzcyh2YWx1ZT0wLjAsIGRlc2NyaXB0aW9uPXUnQ09MJywgbWF4PTMwNC4wLCBzdHlsZT1Qcm9ncmVzc1N0eWxlKGRlc2NyaXB0aW9uX3dpZHRoPXXigKY=\n"
      ]
     },
     "metadata": {},
     "output_type": "display_data"
    },
    {
     "data": {
      "application/vnd.jupyter.widget-view+json": {
       "model_id": "",
       "version_major": 2,
       "version_minor": 0
      },
      "text/plain": [
       "SEJveChjaGlsZHJlbj0oRmxvYXRQcm9ncmVzcyh2YWx1ZT0wLjAsIGRlc2NyaXB0aW9uPXUnQ09MJywgbWF4PTMwNC4wLCBzdHlsZT1Qcm9ncmVzc1N0eWxlKGRlc2NyaXB0aW9uX3dpZHRoPXXigKY=\n"
      ]
     },
     "metadata": {},
     "output_type": "display_data"
    },
    {
     "data": {
      "application/vnd.jupyter.widget-view+json": {
       "model_id": "",
       "version_major": 2,
       "version_minor": 0
      },
      "text/plain": [
       "SEJveChjaGlsZHJlbj0oRmxvYXRQcm9ncmVzcyh2YWx1ZT0wLjAsIGRlc2NyaXB0aW9uPXUnQ09MJywgbWF4PTMwNC4wLCBzdHlsZT1Qcm9ncmVzc1N0eWxlKGRlc2NyaXB0aW9uX3dpZHRoPXXigKY=\n"
      ]
     },
     "metadata": {},
     "output_type": "display_data"
    },
    {
     "data": {
      "application/vnd.jupyter.widget-view+json": {
       "model_id": "",
       "version_major": 2,
       "version_minor": 0
      },
      "text/plain": [
       "SEJveChjaGlsZHJlbj0oRmxvYXRQcm9ncmVzcyh2YWx1ZT0wLjAsIGRlc2NyaXB0aW9uPXUnQ09MJywgbWF4PTMwNS4wLCBzdHlsZT1Qcm9ncmVzc1N0eWxlKGRlc2NyaXB0aW9uX3dpZHRoPXXigKY=\n"
      ]
     },
     "metadata": {},
     "output_type": "display_data"
    },
    {
     "data": {
      "application/vnd.jupyter.widget-view+json": {
       "model_id": "",
       "version_major": 2,
       "version_minor": 0
      },
      "text/plain": [
       "SEJveChjaGlsZHJlbj0oRmxvYXRQcm9ncmVzcyh2YWx1ZT0wLjAsIGRlc2NyaXB0aW9uPXUnQ09MJywgbWF4PTMwNC4wLCBzdHlsZT1Qcm9ncmVzc1N0eWxlKGRlc2NyaXB0aW9uX3dpZHRoPXXigKY=\n"
      ]
     },
     "metadata": {},
     "output_type": "display_data"
    },
    {
     "data": {
      "application/vnd.jupyter.widget-view+json": {
       "model_id": "",
       "version_major": 2,
       "version_minor": 0
      },
      "text/plain": [
       "SEJveChjaGlsZHJlbj0oRmxvYXRQcm9ncmVzcyh2YWx1ZT0wLjAsIGRlc2NyaXB0aW9uPXUnQ09MJywgbWF4PTMwNC4wLCBzdHlsZT1Qcm9ncmVzc1N0eWxlKGRlc2NyaXB0aW9uX3dpZHRoPXXigKY=\n"
      ]
     },
     "metadata": {},
     "output_type": "display_data"
    },
    {
     "data": {
      "application/vnd.jupyter.widget-view+json": {
       "model_id": "",
       "version_major": 2,
       "version_minor": 0
      },
      "text/plain": [
       "SEJveChjaGlsZHJlbj0oRmxvYXRQcm9ncmVzcyh2YWx1ZT0wLjAsIGRlc2NyaXB0aW9uPXUnQ09MJywgbWF4PTMwNC4wLCBzdHlsZT1Qcm9ncmVzc1N0eWxlKGRlc2NyaXB0aW9uX3dpZHRoPXXigKY=\n"
      ]
     },
     "metadata": {},
     "output_type": "display_data"
    },
    {
     "data": {
      "application/vnd.jupyter.widget-view+json": {
       "model_id": "",
       "version_major": 2,
       "version_minor": 0
      },
      "text/plain": [
       "SEJveChjaGlsZHJlbj0oRmxvYXRQcm9ncmVzcyh2YWx1ZT0wLjAsIGRlc2NyaXB0aW9uPXUnQ09MJywgbWF4PTMwNC4wLCBzdHlsZT1Qcm9ncmVzc1N0eWxlKGRlc2NyaXB0aW9uX3dpZHRoPXXigKY=\n"
      ]
     },
     "metadata": {},
     "output_type": "display_data"
    },
    {
     "data": {
      "application/vnd.jupyter.widget-view+json": {
       "model_id": "",
       "version_major": 2,
       "version_minor": 0
      },
      "text/plain": [
       "SEJveChjaGlsZHJlbj0oRmxvYXRQcm9ncmVzcyh2YWx1ZT0wLjAsIGRlc2NyaXB0aW9uPXUnQ09MJywgbWF4PTMwNC4wLCBzdHlsZT1Qcm9ncmVzc1N0eWxlKGRlc2NyaXB0aW9uX3dpZHRoPXXigKY=\n"
      ]
     },
     "metadata": {},
     "output_type": "display_data"
    },
    {
     "data": {
      "application/vnd.jupyter.widget-view+json": {
       "model_id": "",
       "version_major": 2,
       "version_minor": 0
      },
      "text/plain": [
       "SEJveChjaGlsZHJlbj0oRmxvYXRQcm9ncmVzcyh2YWx1ZT0wLjAsIGRlc2NyaXB0aW9uPXUnQ09MJywgbWF4PTMwNC4wLCBzdHlsZT1Qcm9ncmVzc1N0eWxlKGRlc2NyaXB0aW9uX3dpZHRoPXXigKY=\n"
      ]
     },
     "metadata": {},
     "output_type": "display_data"
    },
    {
     "data": {
      "application/vnd.jupyter.widget-view+json": {
       "model_id": "",
       "version_major": 2,
       "version_minor": 0
      },
      "text/plain": [
       "SEJveChjaGlsZHJlbj0oRmxvYXRQcm9ncmVzcyh2YWx1ZT0wLjAsIGRlc2NyaXB0aW9uPXUnQ09MJywgbWF4PTMwMy4wLCBzdHlsZT1Qcm9ncmVzc1N0eWxlKGRlc2NyaXB0aW9uX3dpZHRoPXXigKY=\n"
      ]
     },
     "metadata": {},
     "output_type": "display_data"
    },
    {
     "data": {
      "application/vnd.jupyter.widget-view+json": {
       "model_id": "",
       "version_major": 2,
       "version_minor": 0
      },
      "text/plain": [
       "SEJveChjaGlsZHJlbj0oRmxvYXRQcm9ncmVzcyh2YWx1ZT0wLjAsIGRlc2NyaXB0aW9uPXUnQ09MJywgbWF4PTMwNC4wLCBzdHlsZT1Qcm9ncmVzc1N0eWxlKGRlc2NyaXB0aW9uX3dpZHRoPXXigKY=\n"
      ]
     },
     "metadata": {},
     "output_type": "display_data"
    },
    {
     "data": {
      "application/vnd.jupyter.widget-view+json": {
       "model_id": "",
       "version_major": 2,
       "version_minor": 0
      },
      "text/plain": [
       "SEJveChjaGlsZHJlbj0oRmxvYXRQcm9ncmVzcyh2YWx1ZT0wLjAsIGRlc2NyaXB0aW9uPXUnQ09MJywgbWF4PTMwNC4wLCBzdHlsZT1Qcm9ncmVzc1N0eWxlKGRlc2NyaXB0aW9uX3dpZHRoPXXigKY=\n"
      ]
     },
     "metadata": {},
     "output_type": "display_data"
    },
    {
     "data": {
      "application/vnd.jupyter.widget-view+json": {
       "model_id": "",
       "version_major": 2,
       "version_minor": 0
      },
      "text/plain": [
       "SEJveChjaGlsZHJlbj0oRmxvYXRQcm9ncmVzcyh2YWx1ZT0wLjAsIGRlc2NyaXB0aW9uPXUnQ09MJywgbWF4PTMwNC4wLCBzdHlsZT1Qcm9ncmVzc1N0eWxlKGRlc2NyaXB0aW9uX3dpZHRoPXXigKY=\n"
      ]
     },
     "metadata": {},
     "output_type": "display_data"
    },
    {
     "data": {
      "application/vnd.jupyter.widget-view+json": {
       "model_id": "",
       "version_major": 2,
       "version_minor": 0
      },
      "text/plain": [
       "SEJveChjaGlsZHJlbj0oRmxvYXRQcm9ncmVzcyh2YWx1ZT0wLjAsIGRlc2NyaXB0aW9uPXUnQ09MJywgbWF4PTMwNC4wLCBzdHlsZT1Qcm9ncmVzc1N0eWxlKGRlc2NyaXB0aW9uX3dpZHRoPXXigKY=\n"
      ]
     },
     "metadata": {},
     "output_type": "display_data"
    },
    {
     "data": {
      "application/vnd.jupyter.widget-view+json": {
       "model_id": "",
       "version_major": 2,
       "version_minor": 0
      },
      "text/plain": [
       "SEJveChjaGlsZHJlbj0oRmxvYXRQcm9ncmVzcyh2YWx1ZT0wLjAsIGRlc2NyaXB0aW9uPXUnQ09MJywgbWF4PTMwNC4wLCBzdHlsZT1Qcm9ncmVzc1N0eWxlKGRlc2NyaXB0aW9uX3dpZHRoPXXigKY=\n"
      ]
     },
     "metadata": {},
     "output_type": "display_data"
    },
    {
     "data": {
      "application/vnd.jupyter.widget-view+json": {
       "model_id": "",
       "version_major": 2,
       "version_minor": 0
      },
      "text/plain": [
       "SEJveChjaGlsZHJlbj0oRmxvYXRQcm9ncmVzcyh2YWx1ZT0wLjAsIGRlc2NyaXB0aW9uPXUnQ09MJywgbWF4PTMwNC4wLCBzdHlsZT1Qcm9ncmVzc1N0eWxlKGRlc2NyaXB0aW9uX3dpZHRoPXXigKY=\n"
      ]
     },
     "metadata": {},
     "output_type": "display_data"
    },
    {
     "data": {
      "application/vnd.jupyter.widget-view+json": {
       "model_id": "",
       "version_major": 2,
       "version_minor": 0
      },
      "text/plain": [
       "SEJveChjaGlsZHJlbj0oRmxvYXRQcm9ncmVzcyh2YWx1ZT0wLjAsIGRlc2NyaXB0aW9uPXUnQ09MJywgbWF4PTMwNC4wLCBzdHlsZT1Qcm9ncmVzc1N0eWxlKGRlc2NyaXB0aW9uX3dpZHRoPXXigKY=\n"
      ]
     },
     "metadata": {},
     "output_type": "display_data"
    },
    {
     "data": {
      "application/vnd.jupyter.widget-view+json": {
       "model_id": "",
       "version_major": 2,
       "version_minor": 0
      },
      "text/plain": [
       "SEJveChjaGlsZHJlbj0oRmxvYXRQcm9ncmVzcyh2YWx1ZT0wLjAsIGRlc2NyaXB0aW9uPXUnQ09MJywgbWF4PTMwNC4wLCBzdHlsZT1Qcm9ncmVzc1N0eWxlKGRlc2NyaXB0aW9uX3dpZHRoPXXigKY=\n"
      ]
     },
     "metadata": {},
     "output_type": "display_data"
    },
    {
     "data": {
      "application/vnd.jupyter.widget-view+json": {
       "model_id": "",
       "version_major": 2,
       "version_minor": 0
      },
      "text/plain": [
       "SEJveChjaGlsZHJlbj0oRmxvYXRQcm9ncmVzcyh2YWx1ZT0wLjAsIGRlc2NyaXB0aW9uPXUnQ09MJywgbWF4PTMwNC4wLCBzdHlsZT1Qcm9ncmVzc1N0eWxlKGRlc2NyaXB0aW9uX3dpZHRoPXXigKY=\n"
      ]
     },
     "metadata": {},
     "output_type": "display_data"
    },
    {
     "data": {
      "application/vnd.jupyter.widget-view+json": {
       "model_id": "",
       "version_major": 2,
       "version_minor": 0
      },
      "text/plain": [
       "SEJveChjaGlsZHJlbj0oRmxvYXRQcm9ncmVzcyh2YWx1ZT0wLjAsIGRlc2NyaXB0aW9uPXUnQ09MJywgbWF4PTMwNC4wLCBzdHlsZT1Qcm9ncmVzc1N0eWxlKGRlc2NyaXB0aW9uX3dpZHRoPXXigKY=\n"
      ]
     },
     "metadata": {},
     "output_type": "display_data"
    },
    {
     "data": {
      "application/vnd.jupyter.widget-view+json": {
       "model_id": "",
       "version_major": 2,
       "version_minor": 0
      },
      "text/plain": [
       "SEJveChjaGlsZHJlbj0oRmxvYXRQcm9ncmVzcyh2YWx1ZT0wLjAsIGRlc2NyaXB0aW9uPXUnQ09MJywgbWF4PTMwMy4wLCBzdHlsZT1Qcm9ncmVzc1N0eWxlKGRlc2NyaXB0aW9uX3dpZHRoPXXigKY=\n"
      ]
     },
     "metadata": {},
     "output_type": "display_data"
    },
    {
     "data": {
      "application/vnd.jupyter.widget-view+json": {
       "model_id": "",
       "version_major": 2,
       "version_minor": 0
      },
      "text/plain": [
       "SEJveChjaGlsZHJlbj0oRmxvYXRQcm9ncmVzcyh2YWx1ZT0wLjAsIGRlc2NyaXB0aW9uPXUnQ09MJywgbWF4PTMwMy4wLCBzdHlsZT1Qcm9ncmVzc1N0eWxlKGRlc2NyaXB0aW9uX3dpZHRoPXXigKY=\n"
      ]
     },
     "metadata": {},
     "output_type": "display_data"
    },
    {
     "data": {
      "application/vnd.jupyter.widget-view+json": {
       "model_id": "",
       "version_major": 2,
       "version_minor": 0
      },
      "text/plain": [
       "SEJveChjaGlsZHJlbj0oRmxvYXRQcm9ncmVzcyh2YWx1ZT0wLjAsIGRlc2NyaXB0aW9uPXUnQ09MJywgbWF4PTMwMy4wLCBzdHlsZT1Qcm9ncmVzc1N0eWxlKGRlc2NyaXB0aW9uX3dpZHRoPXXigKY=\n"
      ]
     },
     "metadata": {},
     "output_type": "display_data"
    },
    {
     "data": {
      "application/vnd.jupyter.widget-view+json": {
       "model_id": "",
       "version_major": 2,
       "version_minor": 0
      },
      "text/plain": [
       "SEJveChjaGlsZHJlbj0oRmxvYXRQcm9ncmVzcyh2YWx1ZT0wLjAsIGRlc2NyaXB0aW9uPXUnQ09MJywgbWF4PTMwMy4wLCBzdHlsZT1Qcm9ncmVzc1N0eWxlKGRlc2NyaXB0aW9uX3dpZHRoPXXigKY=\n"
      ]
     },
     "metadata": {},
     "output_type": "display_data"
    },
    {
     "data": {
      "application/vnd.jupyter.widget-view+json": {
       "model_id": "",
       "version_major": 2,
       "version_minor": 0
      },
      "text/plain": [
       "SEJveChjaGlsZHJlbj0oRmxvYXRQcm9ncmVzcyh2YWx1ZT0wLjAsIGRlc2NyaXB0aW9uPXUnQ09MJywgbWF4PTMwMy4wLCBzdHlsZT1Qcm9ncmVzc1N0eWxlKGRlc2NyaXB0aW9uX3dpZHRoPXXigKY=\n"
      ]
     },
     "metadata": {},
     "output_type": "display_data"
    },
    {
     "data": {
      "application/vnd.jupyter.widget-view+json": {
       "model_id": "",
       "version_major": 2,
       "version_minor": 0
      },
      "text/plain": [
       "SEJveChjaGlsZHJlbj0oRmxvYXRQcm9ncmVzcyh2YWx1ZT0wLjAsIGRlc2NyaXB0aW9uPXUnQ09MJywgbWF4PTMwMy4wLCBzdHlsZT1Qcm9ncmVzc1N0eWxlKGRlc2NyaXB0aW9uX3dpZHRoPXXigKY=\n"
      ]
     },
     "metadata": {},
     "output_type": "display_data"
    },
    {
     "data": {
      "application/vnd.jupyter.widget-view+json": {
       "model_id": "",
       "version_major": 2,
       "version_minor": 0
      },
      "text/plain": [
       "SEJveChjaGlsZHJlbj0oRmxvYXRQcm9ncmVzcyh2YWx1ZT0wLjAsIGRlc2NyaXB0aW9uPXUnQ09MJywgbWF4PTMwMy4wLCBzdHlsZT1Qcm9ncmVzc1N0eWxlKGRlc2NyaXB0aW9uX3dpZHRoPXXigKY=\n"
      ]
     },
     "metadata": {},
     "output_type": "display_data"
    },
    {
     "data": {
      "application/vnd.jupyter.widget-view+json": {
       "model_id": "",
       "version_major": 2,
       "version_minor": 0
      },
      "text/plain": [
       "SEJveChjaGlsZHJlbj0oRmxvYXRQcm9ncmVzcyh2YWx1ZT0wLjAsIGRlc2NyaXB0aW9uPXUnQ09MJywgbWF4PTMwMy4wLCBzdHlsZT1Qcm9ncmVzc1N0eWxlKGRlc2NyaXB0aW9uX3dpZHRoPXXigKY=\n"
      ]
     },
     "metadata": {},
     "output_type": "display_data"
    },
    {
     "data": {
      "application/vnd.jupyter.widget-view+json": {
       "model_id": "",
       "version_major": 2,
       "version_minor": 0
      },
      "text/plain": [
       "SEJveChjaGlsZHJlbj0oRmxvYXRQcm9ncmVzcyh2YWx1ZT0wLjAsIGRlc2NyaXB0aW9uPXUnQ09MJywgbWF4PTMwMy4wLCBzdHlsZT1Qcm9ncmVzc1N0eWxlKGRlc2NyaXB0aW9uX3dpZHRoPXXigKY=\n"
      ]
     },
     "metadata": {},
     "output_type": "display_data"
    },
    {
     "data": {
      "application/vnd.jupyter.widget-view+json": {
       "model_id": "",
       "version_major": 2,
       "version_minor": 0
      },
      "text/plain": [
       "SEJveChjaGlsZHJlbj0oRmxvYXRQcm9ncmVzcyh2YWx1ZT0wLjAsIGRlc2NyaXB0aW9uPXUnQ09MJywgbWF4PTMwMy4wLCBzdHlsZT1Qcm9ncmVzc1N0eWxlKGRlc2NyaXB0aW9uX3dpZHRoPXXigKY=\n"
      ]
     },
     "metadata": {},
     "output_type": "display_data"
    },
    {
     "data": {
      "application/vnd.jupyter.widget-view+json": {
       "model_id": "",
       "version_major": 2,
       "version_minor": 0
      },
      "text/plain": [
       "SEJveChjaGlsZHJlbj0oRmxvYXRQcm9ncmVzcyh2YWx1ZT0wLjAsIGRlc2NyaXB0aW9uPXUnQ09MJywgbWF4PTMwMi4wLCBzdHlsZT1Qcm9ncmVzc1N0eWxlKGRlc2NyaXB0aW9uX3dpZHRoPXXigKY=\n"
      ]
     },
     "metadata": {},
     "output_type": "display_data"
    },
    {
     "data": {
      "application/vnd.jupyter.widget-view+json": {
       "model_id": "",
       "version_major": 2,
       "version_minor": 0
      },
      "text/plain": [
       "SEJveChjaGlsZHJlbj0oRmxvYXRQcm9ncmVzcyh2YWx1ZT0wLjAsIGRlc2NyaXB0aW9uPXUnQ09MJywgbWF4PTMwMi4wLCBzdHlsZT1Qcm9ncmVzc1N0eWxlKGRlc2NyaXB0aW9uX3dpZHRoPXXigKY=\n"
      ]
     },
     "metadata": {},
     "output_type": "display_data"
    },
    {
     "data": {
      "application/vnd.jupyter.widget-view+json": {
       "model_id": "",
       "version_major": 2,
       "version_minor": 0
      },
      "text/plain": [
       "SEJveChjaGlsZHJlbj0oRmxvYXRQcm9ncmVzcyh2YWx1ZT0wLjAsIGRlc2NyaXB0aW9uPXUnQ09MJywgbWF4PTMwMi4wLCBzdHlsZT1Qcm9ncmVzc1N0eWxlKGRlc2NyaXB0aW9uX3dpZHRoPXXigKY=\n"
      ]
     },
     "metadata": {},
     "output_type": "display_data"
    },
    {
     "data": {
      "application/vnd.jupyter.widget-view+json": {
       "model_id": "",
       "version_major": 2,
       "version_minor": 0
      },
      "text/plain": [
       "SEJveChjaGlsZHJlbj0oRmxvYXRQcm9ncmVzcyh2YWx1ZT0wLjAsIGRlc2NyaXB0aW9uPXUnQ09MJywgbWF4PTMwMi4wLCBzdHlsZT1Qcm9ncmVzc1N0eWxlKGRlc2NyaXB0aW9uX3dpZHRoPXXigKY=\n"
      ]
     },
     "metadata": {},
     "output_type": "display_data"
    },
    {
     "name": "stdout",
     "output_type": "stream",
     "text": [
      "\n"
     ]
    },
    {
     "data": {
      "application/vnd.jupyter.widget-view+json": {
       "model_id": "9cd2a0f49c14418596552a9cc40a8098",
       "version_major": 2,
       "version_minor": 0
      },
      "text/plain": [
       "SEJveChjaGlsZHJlbj0oRmxvYXRQcm9ncmVzcyh2YWx1ZT0wLjAsIGRlc2NyaXB0aW9uPXUnU0FWRScsIG1heD0xMC4wLCBzdHlsZT1Qcm9ncmVzc1N0eWxlKGRlc2NyaXB0aW9uX3dpZHRoPXXigKY=\n"
      ]
     },
     "metadata": {},
     "output_type": "display_data"
    },
    {
     "name": "stdout",
     "output_type": "stream",
     "text": [
      "\n"
     ]
    },
    {
     "data": {
      "image/png": "[encoded data removed]",
      "text/plain": [
       "<Figure size 432x288 with 1 Axes>"
      ]
     },
     "metadata": {
      "needs_background": "light"
     },
     "output_type": "display_data"
    }
   ],
   "source": [
    "mzArrays = []\n",
    "\n",
    "#10 hand-picked for Slide6-v2-2 visualization\n",
    "mzRanges = [\n",
    "[780.5381, 780.5693],\n",
    "[784.5698, 784.6012],\n",
    "[796.5119, 796.5437],\n",
    "[806.5541, 806.5863],\n",
    "[808.5691, 808.6015],\n",
    "[810.5858, 810.6182],\n",
    "[828.5373, 828.5705],\n",
    "[830.5530, 830.5862],\n",
    "[832.5686, 832.6020],\n",
    "[846.5271, 846.5609]\n",
    "]\n",
    "mzArrays.append(mzRanges)\n",
    "\n",
    "\n",
    "#Set the time resolution to perform interpolation over; def: 0.001\n",
    "timeRes = 0.001\n",
    "\n",
    "#Set resultant number of pixels to interp over\n",
    "numInterpCols = int(1/timeRes)\n",
    "\n",
    "#Set the number of available CPU threads\n",
    "num_threads = multiprocessing.cpu_count()-2 #Leave a couple to spare\n",
    "\n",
    "#For each of the mz sets\n",
    "for mzRanges in mzArrays:\n",
    "\n",
    "    #For each of the samples\n",
    "    dataSampleNames = []\n",
    "    sortedFolders = natsort.natsorted(glob.glob(dir_InputData +str(len(mzRanges))+'/*'),reverse=False)\n",
    "    for trainingSampleFolderNum in range(0,len(sortedFolders)):\n",
    "        trainingSampleFolder = sortedFolders[trainingSampleFolderNum]\n",
    "\n",
    "        dataSampleName = os.path.basename(trainingSampleFolder)\n",
    "        print('Sample', dataSampleName)\n",
    "\n",
    "        resultPath = dir_Results + dataSampleName\n",
    "        if os.path.exists(resultPath): shutil.rmtree(resultPath)\n",
    "        os.makedirs(resultPath)    \n",
    "\n",
    "        dataSampleNames.append(dataSampleName)\n",
    "\n",
    "        fileNames = natsort.natsorted(glob.glob(trainingSampleFolder + '/*.RAW'),reverse=False)\n",
    "\n",
    "        result = Parallel(n_jobs=num_threads)(delayed(thermoRAW_spectra)(fileNames[fileNum]) for fileNum in tqdm(range(0,len(fileNames)), desc = 'RAW FILES', leave = True))\n",
    "\n",
    "        result = np.asarray(result)\n",
    "\n",
    "        spectraList, indexesList = result[:,0], result[:,1]\n",
    "\n",
    "        lengths = []\n",
    "        for x in range(0,len(spectraList)): lengths.append(len(spectraList[x]))\n",
    "        maximumSpectraLength = max(lengths)\n",
    "\n",
    "        #Create holding arrays for the visualizations\n",
    "        mzImages = []\n",
    "        for mzNum in range(0, len(mzRanges)): mzImages.append([])\n",
    "\n",
    "        #Perform the visualizations for all of the specified mass ranges\n",
    "        for rowNum in tqdm(range(0,len(spectraList)), desc = 'ROW', leave = True):\n",
    "            results = Parallel(n_jobs=num_threads)(delayed(rowVisualizer_parhelper)(mzRanges, maximumSpectraLength, spectraList[rowNum][columnNum].mzValues, spectraList[rowNum][columnNum].signalValues) for columnNum in tqdm(range(0,len(spectraList[rowNum])), desc = 'COL', leave = False))\n",
    "            results = np.asarray(results).T\n",
    "            for mzNum in range(0, len(mzRanges)): mzImages[mzNum].append(results[mzNum])\n",
    "       \n",
    "        #Extract all unique measurement times for alignment\n",
    "        allTimes = []\n",
    "        for rowNum in range(0,len(indexesList)): allTimes.append([scanIndex.time for scanIndex in indexesList[rowNum]])\n",
    "        uniqueTimes = np.unique([pxNum for row in allTimes for pxNum in row])\n",
    "        newTimes = np.linspace(min(uniqueTimes), max(uniqueTimes), numInterpCols)\n",
    "\n",
    "        #For each of the mzImages, interpolate over time-domain for row alignment\n",
    "        newImages = []\n",
    "        for mzImage in mzImages:\n",
    "            newImage = []\n",
    "            for rowNum in range(0,len(mzImage)):\n",
    "                origValues = mzImage[rowNum]\n",
    "                origTimes = [scanIndex.time for scanIndex in indexesList[rowNum]]\n",
    "                newImage.append(np.interp(newTimes, origTimes, origValues).tolist())\n",
    "            newImages.append(newImage)\n",
    "\n",
    "        #Save each of the visualizations\n",
    "        for mzNum in tqdm(range(0, len(mzRanges)), desc = 'SAVE', leave = True):\n",
    "            np.savetxt(resultPath + '/mz' + ('%.4f' % mzRanges[mzNum][0]) + '_' + ('%.4f' % mzRanges[mzNum][1]) + 'fn' + dataSampleName + 'ns' + str(len(spectraList)) + '.csv', newImages[mzNum], delimiter=\",\")\n",
    "            plt.imshow(np.asarray(newImages[mzNum]), aspect='auto', cmap = 'hot')\n",
    "            plt.savefig(resultPath + '/mz' + ('%.4f' % mzRanges[mzNum][0]) + '_' + ('%.4f' % mzRanges[mzNum][1]) + 'fn' + dataSampleName + 'ns' + str(len(spectraList)) + '.png')\n",
    "            plt.close()\n",
    "\n",
    "        mzWeights = np.ones(len(newImages))/len(newImages)\n",
    "        avgImage = np.average(np.asarray(newImages), axis=0, weights=mzWeights)\n",
    "        plt.imshow(avgImage, cmap='hot')\n",
    "        plt.savefig(resultPath +'/'+ dataSampleName + '_avg_origAspect.png')\n",
    "        plt.imshow(avgImage,cmap='hot',aspect='auto')\n",
    "        plt.savefig(resultPath +'/'+ dataSampleName + '_avg_autoAspect.png')"
   ]
  },
  {
   "cell_type": "code",
   "execution_count": 48,
   "metadata": {},
   "outputs": [
    {
     "data": {
      "image/png": "[encoded data removed]",
      "text/plain": [
       "<Figure size 1080x360 with 1 Axes>"
      ]
     },
     "metadata": {
      "needs_background": "light"
     },
     "output_type": "display_data"
    }
   ],
   "source": [
    "\n",
    "font = {'size' : 18}\n",
    "plt.rc('font', **font)\n",
    "f = plt.figure(figsize=(15,5))\n",
    "plt.plot(spectraList[31][152].mzValues[3500:4500], spectraList[31][152].signalValues[3500:4500], color='k')\n",
    "[plt.axvline(point, linewidth=1, color='r', linestyle='--') for point in np.mean(np.asarray(mzRanges),axis=1)]\n",
    "plt.xlabel('mz Value')\n",
    "plt.ylabel('Intensity')\n",
    "plt.savefig('Spectrum Plot Example.png')"
   ]
  },
  {
   "cell_type": "code",
   "execution_count": null,
   "metadata": {},
   "outputs": [],
   "source": []
  },
  {
   "cell_type": "code",
   "execution_count": null,
   "metadata": {},
   "outputs": [],
   "source": []
  },
  {
   "cell_type": "code",
   "execution_count": null,
   "metadata": {},
   "outputs": [],
   "source": []
  },
  {
   "cell_type": "code",
   "execution_count": null,
   "metadata": {},
   "outputs": [],
   "source": []
  },
  {
   "cell_type": "code",
   "execution_count": null,
   "metadata": {},
   "outputs": [],
   "source": []
  },
  {
   "cell_type": "code",
   "execution_count": null,
   "metadata": {},
   "outputs": [],
   "source": []
  }
 ],
 "metadata": {
  "kernelspec": {
   "display_name": "Python 3",
   "language": "python",
   "name": "python3"
  },
  "language_info": {
   "codemirror_mode": {
    "name": "ipython",
    "version": 2
   },
   "file_extension": ".py",
   "mimetype": "text/x-python",
   "name": "python",
   "nbconvert_exporter": "python",
   "pygments_lexer": "ipython2",
   "version": "2.7.16"
  }
 },
 "nbformat": 4,
 "nbformat_minor": 2
}
