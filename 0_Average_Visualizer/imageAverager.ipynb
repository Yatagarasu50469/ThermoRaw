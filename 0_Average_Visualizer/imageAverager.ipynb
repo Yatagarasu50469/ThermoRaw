{
 "cells": [
  {
   "cell_type": "code",
   "execution_count": 1,
   "metadata": {},
   "outputs": [],
   "source": [
    "#==================================================================\n",
    "#Program: visualizationComparison\n",
    "#Author(s): David Helminiak\n",
    "#Date Created: November 2019\n",
    "#Date Last Modified: November 2019\n",
    "#Changelog: 0.1  - Average sets of images (.csv format)\n",
    "#\n",
    "#==================================================================\n",
    "\n",
    "\n",
    "#==================================================================\n",
    "#LIBRARY IMPORTS\n",
    "#==================================================================\n",
    "import cv2\n",
    "import numpy as np\n",
    "import matplotlib.pyplot as plt\n",
    "import tensorflow as tf\n",
    "import glob\n",
    "import math\n",
    "import natsort\n",
    "import os\n",
    "import re\n",
    "import shutil\n",
    "import sys\n",
    "import time\n",
    "from PIL import Image\n",
    "from IPython.core.debugger import Tracer\n",
    "#==================================================================\n",
    "\n"
   ]
  },
  {
   "cell_type": "code",
   "execution_count": null,
   "metadata": {},
   "outputs": [],
   "source": []
  },
  {
   "cell_type": "code",
   "execution_count": 2,
   "metadata": {},
   "outputs": [
    {
     "name": "stdout",
     "output_type": "stream",
     "text": [
      "104-2-2\n",
      "106-1-1\n",
      "106-2-2\n",
      "109-1-1\n",
      "109-1-2\n",
      "109-2-1\n",
      "109-2-2\n"
     ]
    },
    {
     "data": {
      "image/png": "[encoded data removed]",
      "text/plain": [
       "<Figure size 432x288 with 1 Axes>"
      ]
     },
     "metadata": {
      "needs_background": "light"
     },
     "output_type": "display_data"
    }
   ],
   "source": [
    "\n",
    "sortedFolders = natsort.natsorted(glob.glob('./input/*'),reverse=False)\n",
    "for sampleFolderNum in range(0,len(sortedFolders)):\n",
    "    sampleFolder = sortedFolders[sampleFolderNum]\n",
    "    sampleName = os.path.basename(sampleFolder)\n",
    "    print(sampleName)\n",
    "    imageNames = natsort.natsorted(glob.glob(sampleFolder+'/*.csv'),reverse=False)\n",
    "    mzWeights = np.ones(len(imageNames))/len(imageNames)\n",
    "    images = []\n",
    "    for imageName in imageNames: \n",
    "        image = np.nan_to_num(np.loadtxt(imageName, delimiter=','))\n",
    "        images.append(image)\n",
    "        \n",
    "    avgImage = np.average(np.asarray(images), axis=0, weights=mzWeights)\n",
    "    plt.imshow(avgImage, cmap='hot')\n",
    "    plt.savefig('./output/originalAspect_'+sampleName+'.png')\n",
    "    plt.imshow(avgImage,cmap='hot',aspect='auto')\n",
    "    plt.savefig('./output/stretchedAspect_'+sampleName+'.png')"
   ]
  },
  {
   "cell_type": "code",
   "execution_count": null,
   "metadata": {},
   "outputs": [],
   "source": [
    "sampleFolder = sortedFolders[10]\n",
    "sampleName = os.path.basename(sampleFolder)\n",
    "print(sampleName)\n",
    "imageNames = natsort.natsorted(glob.glob(sampleFolder+'/*.csv'),reverse=False)\n",
    "mzWeights = np.ones(len(imageNames))/len(imageNames)\n",
    "images = []\n",
    "for imageName in imageNames: \n",
    "    image = np.nan_to_num(np.loadtxt(imageName, delimiter=','))\n",
    "    images.append(image)\n",
    "\n",
    "avgImage = np.average(np.asarray(images), axis=0, weights=mzWeights)\n",
    "plt.imshow(avgImage,cmap='hot',aspect='auto')\n"
   ]
  },
  {
   "cell_type": "code",
   "execution_count": null,
   "metadata": {},
   "outputs": [],
   "source": [
    "import sklearn.preprocessing"
   ]
  },
  {
   "cell_type": "code",
   "execution_count": null,
   "metadata": {},
   "outputs": [],
   "source": [
    "image"
   ]
  },
  {
   "cell_type": "code",
   "execution_count": null,
   "metadata": {},
   "outputs": [],
   "source": []
  },
  {
   "cell_type": "code",
   "execution_count": null,
   "metadata": {},
   "outputs": [],
   "source": [
    "import sklearn"
   ]
  },
  {
   "cell_type": "code",
   "execution_count": null,
   "metadata": {},
   "outputs": [],
   "source": []
  },
  {
   "cell_type": "code",
   "execution_count": null,
   "metadata": {},
   "outputs": [],
   "source": [
    "\n",
    "sortedFolders = natsort.natsorted(glob.glob('./input/*'),reverse=False)\n",
    "for sampleFolderNum in range(0,len(sortedFolders)):\n",
    "    sampleFolder = sortedFolders[sampleFolderNum]\n",
    "    sampleName = os.path.basename(sampleFolder)\n",
    "    print(sampleName)\n",
    "    imageNames = natsort.natsorted(glob.glob(sampleFolder+'/*.csv'),reverse=False)\n",
    "    mzWeights = np.ones(len(imageNames))/len(imageNames)\n",
    "    images = []\n",
    "    for imageName in imageNames: \n",
    "        image = np.nan_to_num(np.loadtxt(imageName, delimiter=','))\n",
    "        images.append(image)\n",
    "        \n",
    "    avgImage = np.average(np.asarray(images), axis=0, weights=mzWeights)\n",
    "    plt.imshow(avgImage, cmap='hot')\n",
    "    plt.savefig('./output/originalAspect_'+sampleName+'.png')\n",
    "    plt.imshow(avgImage,cmap='hot',aspect='auto')\n",
    "    plt.savefig('./output/stretchedAspect_'+sampleName+'.png')"
   ]
  },
  {
   "cell_type": "code",
   "execution_count": null,
   "metadata": {},
   "outputs": [],
   "source": []
  },
  {
   "cell_type": "code",
   "execution_count": null,
   "metadata": {},
   "outputs": [],
   "source": [
    "for imNum in range(0, len(images)):\n",
    "    image = images[imNum]\n",
    "    plt.imshow(image, aspect='auto', cmap = 'hot')\n",
    "    plt.savefig('./output/' + os.path.splitext(os.path.basename(imageNames[imNum]))[0] +'.png')\n"
   ]
  },
  {
   "cell_type": "code",
   "execution_count": null,
   "metadata": {},
   "outputs": [],
   "source": [
    "'./output/' + os.path.splitext(os.path.basename(imageNames[0]))[0] +'.png'"
   ]
  },
  {
   "cell_type": "code",
   "execution_count": null,
   "metadata": {},
   "outputs": [],
   "source": [
    "sampleFolderNum"
   ]
  },
  {
   "cell_type": "code",
   "execution_count": null,
   "metadata": {},
   "outputs": [],
   "source": [
    "sampleName"
   ]
  },
  {
   "cell_type": "code",
   "execution_count": null,
   "metadata": {},
   "outputs": [],
   "source": [
    "os.path.splitext(os.path.basename(imageNames[0]))[0]"
   ]
  },
  {
   "cell_type": "code",
   "execution_count": null,
   "metadata": {},
   "outputs": [],
   "source": []
  }
 ],
 "metadata": {
  "kernelspec": {
   "display_name": "Python 3",
   "language": "python",
   "name": "python3"
  },
  "language_info": {
   "codemirror_mode": {
    "name": "ipython",
    "version": 2
   },
   "file_extension": ".py",
   "mimetype": "text/x-python",
   "name": "python",
   "nbconvert_exporter": "python",
   "pygments_lexer": "ipython2",
   "version": "2.7.16"
  }
 },
 "nbformat": 4,
 "nbformat_minor": 2
}
