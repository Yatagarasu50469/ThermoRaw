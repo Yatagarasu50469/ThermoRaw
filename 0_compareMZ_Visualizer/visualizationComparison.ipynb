{
 "cells": [
  {
   "cell_type": "code",
   "execution_count": 5,
   "metadata": {},
   "outputs": [],
   "source": [
    "#==================================================================\n",
    "#Program: visualizationComparison\n",
    "#Author(s): David Helminiak\n",
    "#Date Created: November 2019\n",
    "#Date Last Modified: November 2019\n",
    "#Changelog: 0.1  - Compare two sets of matched visualization values\n",
    "#\n",
    "#==================================================================\n",
    "\n",
    "\n",
    "#==================================================================\n",
    "#LIBRARY IMPORTS\n",
    "#==================================================================\n",
    "import numpy as np\n",
    "import matplotlib.pyplot as plt\n",
    "import tensorflow as tf\n",
    "import glob\n",
    "import libtiff\n",
    "import math\n",
    "import natsort\n",
    "import os\n",
    "import re\n",
    "import shutil\n",
    "import sys\n",
    "import time\n",
    "from PIL import Image\n",
    "from IPython.core.debugger import Tracer\n",
    "#==================================================================\n"
   ]
  },
  {
   "cell_type": "code",
   "execution_count": 411,
   "metadata": {},
   "outputs": [],
   "source": [
    "originalImages = []\n",
    "originalNames = []\n",
    "for imageName in natsort.natsorted(glob.glob('./original/*'),reverse=False):\n",
    "    originalNames.append(os.path.basename(imageName))\n",
    "    originalImages.append(np.nan_to_num(np.loadtxt(imageName, delimiter=',')))\n",
    "    \n",
    "        \n",
    "#Then perform a comparison with full precision levels\n",
    "generatedImages = []\n",
    "generatedNames = []\n",
    "for imageName in natsort.natsorted(glob.glob('./generated/*'),reverse=False):\n",
    "    generatedNames.append(os.path.basename(imageName))\n",
    "    generatedImages.append(np.nan_to_num(np.loadtxt(imageName, delimiter=',')))\n",
    "    \n",
    "    "
   ]
  },
  {
   "cell_type": "code",
   "execution_count": 402,
   "metadata": {},
   "outputs": [],
   "source": [
    "mseResults =[]\n",
    "for imageNum in range(0, len(originalImages)):\n",
    "    mseResults.append(((generatedImages[imageNum] - originalImages[imageNum])**2).mean(axis=None))"
   ]
  },
  {
   "cell_type": "code",
   "execution_count": 403,
   "metadata": {},
   "outputs": [
    {
     "data": {
      "text/plain": [
       "[263387847.3946609,\n",
       " 312794520.1089466,\n",
       " 1627771769.0667388,\n",
       " 8098667197.064574,\n",
       " 203493275.46572873,\n",
       " 399669429.9729437,\n",
       " 0.0,\n",
       " 1157002302.3484848,\n",
       " 4648723493.90404,\n",
       " 400061965.63131315,\n",
       " 2872599815.5364356,\n",
       " 493736435.6839827,\n",
       " 1213534007.885642,\n",
       " 748398183.3333334,\n",
       " 1603180395.5010822,\n",
       " 292138536.7406205,\n",
       " 1650581831.4184704,\n",
       " 2818206343.7074313,\n",
       " 3507135407.894661,\n",
       " 4754979668.467532,\n",
       " 4063083437.8293653,\n",
       " 4438087040.343795,\n",
       " 2816905743.9862914,\n",
       " 2213856546.1479077,\n",
       " 2283392912.437951,\n",
       " 4749423199.620491]"
      ]
     },
     "execution_count": 403,
     "metadata": {},
     "output_type": "execute_result"
    }
   ],
   "source": [
    "mseResults"
   ]
  },
  {
   "cell_type": "code",
   "execution_count": 417,
   "metadata": {},
   "outputs": [
    {
     "data": {
      "text/plain": [
       "<matplotlib.image.AxesImage at 0xb733ee470>"
      ]
     },
     "execution_count": 417,
     "metadata": {},
     "output_type": "execute_result"
    },
    {
     "data": {
      "image/png": "[encoded data removed]",
      "text/plain": [
       "<Figure size 432x288 with 1 Axes>"
      ]
     },
     "metadata": {
      "needs_background": "light"
     },
     "output_type": "display_data"
    }
   ],
   "source": [
    "imNum = 20\n",
    "plt.imshow(generatedImages[imNum],aspect='auto',cmap='hot')"
   ]
  },
  {
   "cell_type": "code",
   "execution_count": 418,
   "metadata": {},
   "outputs": [
    {
     "data": {
      "text/plain": [
       "<matplotlib.image.AxesImage at 0xb73570748>"
      ]
     },
     "execution_count": 418,
     "metadata": {},
     "output_type": "execute_result"
    },
    {
     "data": {
      "image/png": "[encoded data removed]",
      "text/plain": [
       "<Figure size 432x288 with 1 Axes>"
      ]
     },
     "metadata": {
      "needs_background": "light"
     },
     "output_type": "display_data"
    }
   ],
   "source": [
    "\n",
    "plt.imshow(originalImages[imNum],aspect='auto',cmap='hot')"
   ]
  },
  {
   "cell_type": "code",
   "execution_count": null,
   "metadata": {},
   "outputs": [],
   "source": []
  },
  {
   "cell_type": "code",
   "execution_count": 420,
   "metadata": {},
   "outputs": [],
   "source": [
    "imNum = 0\n",
    "diff = np.subtract(generatedImages[imNum], originalImages[imNum])\n"
   ]
  },
  {
   "cell_type": "code",
   "execution_count": 407,
   "metadata": {},
   "outputs": [
    {
     "data": {
      "text/plain": [
       "99515.0"
      ]
     },
     "execution_count": 407,
     "metadata": {},
     "output_type": "execute_result"
    }
   ],
   "source": [
    "diff[0][7]"
   ]
  },
  {
   "cell_type": "code",
   "execution_count": 388,
   "metadata": {},
   "outputs": [
    {
     "data": {
      "text/plain": [
       "array([0., 0., 0., 0., 0., 0., 0., 0., 0., 0., 0., 0., 0., 0., 0., 0., 0.,\n",
       "       0., 0., 0., 0., 0., 0., 0., 0., 0., 0., 0., 0., 0., 0., 0., 0., 0.,\n",
       "       0., 0., 0., 0., 0., 0., 0., 0., 0., 0., 0., 0., 0., 0., 0., 0., 0.,\n",
       "       0., 0., 0., 0., 0., 0., 0., 0., 0., 0., 0., 0., 0., 0., 0., 0., 0.,\n",
       "       0., 0., 0., 0., 0., 0., 0., 0., 0., 0., 0., 0., 0., 0., 0., 0., 0.,\n",
       "       0., 0., 0., 0., 0., 0., 0., 0., 0., 0., 0., 0., 0., 0., 0., 0., 0.,\n",
       "       0., 0., 0., 0., 0., 0., 0., 0., 0., 0., 0., 0., 0., 0., 0., 0., 0.,\n",
       "       0., 0., 0., 0., 0., 0., 0., 0., 0., 0., 0., 0., 0., 0., 0., 0., 0.,\n",
       "       0., 0., 0., 0., 0., 0., 0., 0., 0., 0., 0., 0., 0., 0., 0., 0., 0.,\n",
       "       0.])"
      ]
     },
     "execution_count": 388,
     "metadata": {},
     "output_type": "execute_result"
    }
   ],
   "source": [
    "diff[2]"
   ]
  },
  {
   "cell_type": "code",
   "execution_count": null,
   "metadata": {},
   "outputs": [],
   "source": []
  },
  {
   "cell_type": "code",
   "execution_count": 408,
   "metadata": {},
   "outputs": [
    {
     "data": {
      "text/plain": [
       "99515.0"
      ]
     },
     "execution_count": 408,
     "metadata": {},
     "output_type": "execute_result"
    }
   ],
   "source": [
    "generatedImages[0][0][7]"
   ]
  },
  {
   "cell_type": "code",
   "execution_count": 410,
   "metadata": {},
   "outputs": [
    {
     "data": {
      "text/plain": [
       "1344007.0"
      ]
     },
     "execution_count": 410,
     "metadata": {},
     "output_type": "execute_result"
    }
   ],
   "source": [
    "originalImages[10][0][39]"
   ]
  },
  {
   "cell_type": "code",
   "execution_count": null,
   "metadata": {},
   "outputs": [],
   "source": []
  }
 ],
 "metadata": {
  "kernelspec": {
   "display_name": "Python 3",
   "language": "python",
   "name": "python3"
  },
  "language_info": {
   "codemirror_mode": {
    "name": "ipython",
    "version": 3
   },
   "file_extension": ".py",
   "mimetype": "text/x-python",
   "name": "python",
   "nbconvert_exporter": "python",
   "pygments_lexer": "ipython3",
   "version": "3.6.8"
  }
 },
 "nbformat": 4,
 "nbformat_minor": 2
}
